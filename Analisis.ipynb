{
 "cells": [
  {
   "cell_type": "markdown",
   "metadata": {},
   "source": [
    " <h1><center>Analisis del Clima en Madrid en 20 años</center></h1>"
   ]
  },
  {
   "cell_type": "markdown",
   "metadata": {},
   "source": [
    "Como podemos observar el sguiente grafico, la variacion de la temperatura en un mismo mes en el transcurso de 20 años se puede apreciar una variacion de 4 grados a casi mas de 10 grados.\n",
    "\n",
    "Estas variaciones pueden deberse a evetos climaticos inesperados tales como, sequias, olas de calor, lluvias prolongadas, entre otros. \n",
    "\n",
    "Este grafico tambien permite observar que las temporadas donde hay mayor temperatura se soncetra entre el mes de julio y agosto y las temperaturas mas bajas estan en los meses de diciembre, enero y febrero\n"
   ]
  },
  {
   "cell_type": "markdown",
   "metadata": {},
   "source": [
    "<img src=\"output/Grafico1.jpg\" style=\"height:350px\">"
   ]
  },
  {
   "cell_type": "markdown",
   "metadata": {},
   "source": [
    "En el siguiete grafico representa la temperatura promedio anualmente, y lo que se observa es que la temperatuta presenta una tendencia de crecimiento, ademas el coportamiento que hay entre el año 2016 y 2018 es de interes ya que en ese rango se fecha se aprecia claramente un aumento de la temperatura.\n",
    "\n",
    "realizando el calculo porcentual entre la temperatura del año 2000 con respecto a la temperatura del año 2019 se obtiene un incremento del 10% lo cual es algo significativo.\n",
    "\n",
    "Para un mejor analisis sobre el comportamiento entre el año 2016 y 2018 realizomos la tercera grafica\n"
   ]
  },
  {
   "cell_type": "markdown",
   "metadata": {},
   "source": [
    "<img src=\"output/Grafico2.jpg\" style=\"height:350px\">\n"
   ]
  },
  {
   "cell_type": "markdown",
   "metadata": {},
   "source": [
    "Aca se representa el comportammiento de la temperatura minima registrada junto con la temperatura maxima, se puede observar que existe un comportamiento simetrico a lo largo de los años excepto entre el 2015 y el 2018.\n",
    "\n",
    "En primera instancia podria deberse a efectos cliamaticos, sin emabargo estos años especificamento fue donde se unifico la data de dos fuentes distintas, entonces para descartar que la data de las dos fuentes son similares se grafifico nuevamente este años pero con la data separada."
   ]
  },
  {
   "cell_type": "markdown",
   "metadata": {},
   "source": [
    "<img src=\"output/Grafico3.jpg\" style=\"height:350px\">"
   ]
  },
  {
   "cell_type": "markdown",
   "metadata": {},
   "source": [
    "Podemos observar que los comportamientos de ambas informaciones son totalmente distintos, ya que en la data del kaggle se observa que relamente no existe una variacion significativa entre ambas temperaturas, pero por su parte segun la data de la AEMET el comportamiento simetrico si sucede en eses años por lo tanto, se establece que la informacion tomada de Kaggel no es veraz.\n"
   ]
  },
  {
   "cell_type": "markdown",
   "metadata": {},
   "source": [
    "<img src=\"output/Grafico4.jpg\" style=\"height:350px\"> <img src=\"output/Grafico5.jpg\" style=\"height:350px\">\n"
   ]
  },
  {
   "cell_type": "markdown",
   "metadata": {},
   "source": [
    "Por ultimo se realizo dos graficos para observar si extistia una relacion directa entre la temperatura y laprecipitacion, asi como tambien la velocidad del viento y las precipitaciones, sin embargos las graficas no demuestras que exitas una comportamiento asi.\n"
   ]
  },
  {
   "cell_type": "markdown",
   "metadata": {},
   "source": [
    "<img src=\"output/Grafico6.jpg\" style=\"height:350px\"> <img src=\"output/Grafico7.jpg\" style=\"height:350px\"> "
   ]
  },
  {
   "cell_type": "markdown",
   "metadata": {},
   "source": [
    "## Coclusion\n"
   ]
  },
  {
   "cell_type": "markdown",
   "metadata": {},
   "source": [
    "La temperatura presenta una tendencia de crecimeinto y en la actualidad ya ha aumentado casi el 10% respecto al año 2000\n",
    "La informacion extraida del Kaggel no es recomendable para el uso de analisis, ya que no es una informacion certificada.\n",
    "Los meses de mayor temperatura son entre julio y agosto, y las de menos temperaura se registran entre diciembre y febrero.\n",
    "No existe una correlacion entre la temperatura y la precipitacion, y ni tampoco entre la velocidad del viento y la precipitacion.\n"
   ]
  }
 ],
 "metadata": {
  "kernelspec": {
   "display_name": "Python 3",
   "language": "python",
   "name": "python3"
  },
  "language_info": {
   "codemirror_mode": {
    "name": "ipython",
    "version": 3
   },
   "file_extension": ".py",
   "mimetype": "text/x-python",
   "name": "python",
   "nbconvert_exporter": "python",
   "pygments_lexer": "ipython3",
   "version": "3.8.3"
  }
 },
 "nbformat": 4,
 "nbformat_minor": 4
}
